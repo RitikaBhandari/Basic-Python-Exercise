{
 "cells": [
  {
   "cell_type": "markdown",
   "metadata": {},
   "source": [
    "## Python Basic Programming Exercises"
   ]
  },
  {
   "cell_type": "markdown",
   "metadata": {},
   "source": [
    "Q1: What is the output of following expression\n",
    "    \n",
    "    5 + 4 * 9 % (3 + 1) / 6 - 1"
   ]
  },
  {
   "cell_type": "code",
   "execution_count": 20,
   "metadata": {},
   "outputs": [
    {
     "name": "stdout",
     "output_type": "stream",
     "text": [
      "4.0\n"
     ]
    }
   ],
   "source": [
    "x = 5 + 4 * 9 % (3 + 1) / 6 - 1\n",
    "print(x)"
   ]
  },
  {
   "cell_type": "markdown",
   "metadata": {},
   "source": [
    "Q2: Write a program to check if a Number is Odd or Even. Take number as a input from user at runtime."
   ]
  },
  {
   "cell_type": "code",
   "execution_count": null,
   "metadata": {},
   "outputs": [],
   "source": [
    "input1 = int(input(\"Enter a number : \"))\n",
    "if input1%2 == 0:\n",
    "    print(\"Number is Even\")\n",
    "else:\n",
    "    print(\"Number is Odd\")"
   ]
  },
  {
   "cell_type": "markdown",
   "metadata": {},
   "source": [
    "Q3: Write a program to display the multiplication table by taking a number as input. \n",
    "    \n",
    "    [Hint : Use print statement inside of a loop]"
   ]
  },
  {
   "cell_type": "code",
   "execution_count": 24,
   "metadata": {},
   "outputs": [
    {
     "name": "stdout",
     "output_type": "stream",
     "text": [
      "ENTER A NUMBER - 12\n",
      " 12 X 1 = 12\n",
      " 12 X 2 = 24\n",
      " 12 X 3 = 36\n",
      " 12 X 4 = 48\n",
      " 12 X 5 = 60\n",
      " 12 X 6 = 72\n",
      " 12 X 7 = 84\n",
      " 12 X 8 = 96\n",
      " 12 X 9 = 108\n",
      " 12 X 10 = 120\n"
     ]
    }
   ],
   "source": [
    "x = int(input(\"ENTER A NUMBER - \"))\n",
    "for y in range (1,11,1):\n",
    "    print(\" {} X {} = {}\".format(x,y,x*y))"
   ]
  },
  {
   "cell_type": "markdown",
   "metadata": {},
   "source": [
    "Q4: Write a program which will find all numbers between 2000 and 3200 which are divisible by 7 \n",
    "    \n",
    "    but are not a multiple of 5.\n",
    " \n",
    "Note: The numbers obtained should be printed in a comma-separated sequence on a single line."
   ]
  },
  {
   "cell_type": "code",
   "execution_count": 22,
   "metadata": {},
   "outputs": [
    {
     "name": "stdout",
     "output_type": "stream",
     "text": [
      "2002,2009,2016,2023,2037,2044,2051,2058,2072,2079,2086,2093,2107,2114,2121,2128,2142,2149,2156,2163,2177,2184,2191,2198,2212,2219,2226,2233,2247,2254,2261,2268,2282,2289,2296,2303,2317,2324,2331,2338,2352,2359,2366,2373,2387,2394,2401,2408,2422,2429,2436,2443,2457,2464,2471,2478,2492,2499,2506,2513,2527,2534,2541,2548,2562,2569,2576,2583,2597,2604,2611,2618,2632,2639,2646,2653,2667,2674,2681,2688,2702,2709,2716,2723,2737,2744,2751,2758,2772,2779,2786,2793,2807,2814,2821,2828,2842,2849,2856,2863,2877,2884,2891,2898,2912,2919,2926,2933,2947,2954,2961,2968,2982,2989,2996,3003,3017,3024,3031,3038,3052,3059,3066,3073,3087,3094,3101,3108,3122,3129,3136,3143,3157,3164,3171,3178,3192,3199,"
     ]
    }
   ],
   "source": [
    "for a in range(2000,3200):\n",
    "    if a % 7 == 0 and a % 5 != 0:\n",
    "        print(a, end=\",\")"
   ]
  },
  {
   "cell_type": "markdown",
   "metadata": {},
   "source": [
    "Q5: Count the elements of each datatype inside the list and display in output\n",
    "    \n",
    "    [2, 3, 'Py', '10', 1, 'SQL', 5.5, True, 3, 'John', None, 7]    "
   ]
  },
  {
   "cell_type": "code",
   "execution_count": 9,
   "metadata": {},
   "outputs": [
    {
     "name": "stdout",
     "output_type": "stream",
     "text": [
      "counter_int =  5\n",
      "counter_str =  4\n",
      "counter_bool =  1\n",
      "counter_None =  1\n",
      "counter_float =  1\n"
     ]
    }
   ],
   "source": [
    "l= [2, 3, 'Py', '10', 1, 'SQL', 5.5, True, 3, 'John', None, 7] \n",
    "counter_int = 0\n",
    "counter_float = 0\n",
    "counter_str = 0\n",
    "counter_bool = 0\n",
    "counter_None = 0\n",
    "\n",
    "for var in l:\n",
    "    if type(var) == int:\n",
    "        counter_int += 1\n",
    "    if type(var) == float:\n",
    "        counter_float += 1\n",
    "    if type(var) == str:\n",
    "        counter_str += 1\n",
    "    if type(var) == bool:\n",
    "        counter_bool += 1\n",
    "    if var == None:\n",
    "        counter_None += 1\n",
    "        \n",
    "print(\"counter_int = \",counter_int)\n",
    "print(\"counter_str = \",counter_str)\n",
    "print(\"counter_bool = \",counter_bool)\n",
    "print(\"counter_None = \",counter_None)\n",
    "print(\"counter_float = \",counter_None)"
   ]
  },
  {
   "cell_type": "markdown",
   "metadata": {},
   "source": [
    "Q6: Add all values from the list with numeric datatypes \n",
    "    \n",
    "    [2, 3, 'Py', '10', 1, 'SQL', 5.5, True, 3, 'John', None, 7] "
   ]
  },
  {
   "cell_type": "code",
   "execution_count": 19,
   "metadata": {},
   "outputs": [
    {
     "name": "stdout",
     "output_type": "stream",
     "text": [
      "Sum of Numeric datatypes =  21.5\n"
     ]
    }
   ],
   "source": [
    "l1 = [2, 3, 'Py', '10', 1, 'SQL', 5.5, True, 3, 'John', None, 7] \n",
    "sum = 0\n",
    "for var in l1:\n",
    "    if type(var) in (int,float):\n",
    "        sum +=var\n",
    "print(\"Sum of Numeric datatypes = \",sum)"
   ]
  },
  {
   "cell_type": "markdown",
   "metadata": {},
   "source": [
    "Q7: Concat all str datatypes with hyphen as a delimiter\n",
    "    \n",
    "    [2, 3, 'Py', '10', 1, 'SQL', 5.5, True, 3, 'John', None, 7] "
   ]
  },
  {
   "cell_type": "code",
   "execution_count": 10,
   "metadata": {},
   "outputs": [
    {
     "name": "stdout",
     "output_type": "stream",
     "text": [
      "Py-10-SQL-John-"
     ]
    }
   ],
   "source": [
    "l2 = [2, 3, 'Py', '10', 1, 'SQL', 5.5, True, 3, 'John', None, 7] \n",
    "for var in l1:\n",
    "    if type(var) == str:\n",
    "        print(var, end=\"-\")"
   ]
  },
  {
   "cell_type": "markdown",
   "metadata": {},
   "source": [
    "Q8: Write a UDF that takes list as input and returns sum of all numbers \n",
    "    \n",
    "    (exclude bool) and count of all str \n",
    "    [2, 3, 'Py', '10', 1, 'SQL', 5.5, True, 3, 'John', None, 7] \n",
    "    \n",
    "Hint:\n",
    "-----\n",
    "def my_func:\n",
    "    \n",
    "    # your code\n",
    "        \n",
    "my_func(l1)\n",
    " \n",
    " output --> {'Sum': xxx, 'Count_of_Strs': xxx}"
   ]
  },
  {
   "cell_type": "code",
   "execution_count": 33,
   "metadata": {},
   "outputs": [
    {
     "name": "stdout",
     "output_type": "stream",
     "text": [
      "Sum of Numeric datatypes =  21.5\n",
      "Count of all string =  4\n"
     ]
    }
   ],
   "source": [
    "l3 = [2, 3, 'Py', '10', 1, 'SQL', 5.5, True, 3, 'John', None, 7] \n",
    "def my_func(a):\n",
    "    sum_numbers = 0\n",
    "    counter = 0\n",
    "    for var in a:\n",
    "        if type(var) in (int,float):\n",
    "            sum_numbers +=var\n",
    "        elif type(var) == str:\n",
    "            counter += 1\n",
    "    print(\"Sum of Numeric datatypes = \", sum_numbers)\n",
    "    print(\"Count of all string = \", counter)\n",
    "my_func(l3)\n",
    "    "
   ]
  },
  {
   "cell_type": "markdown",
   "metadata": {},
   "source": [
    "Q9: Get only odd numbers from the following list and store the numbers in new list\n",
    "    \n",
    "    li = [5, 7, 22, 97, 54, 62, 77, 23, 73, 61]\n",
    "\n",
    "    i. Use loops to get the answer\n",
    "    ii. Use list comprehensions\n",
    "    iii. Use lambda function with filter"
   ]
  },
  {
   "cell_type": "code",
   "execution_count": 43,
   "metadata": {},
   "outputs": [
    {
     "name": "stdout",
     "output_type": "stream",
     "text": [
      "5\n",
      "7\n",
      "97\n",
      "77\n",
      "23\n",
      "73\n",
      "61\n",
      "[5, 7, 97, 77, 23, 73, 61]\n",
      "[5, 7, 97, 77, 23, 73, 61]\n"
     ]
    }
   ],
   "source": [
    "li = [5, 7, 22, 97, 54, 62, 77, 23, 73, 61]\n",
    "# i. Use loops to get the answer\n",
    "for var in li:\n",
    "    if var%2 != 0:\n",
    "        print(var)\n",
    "        \n",
    "# ii. Use list comprehensions\n",
    "lc = [var for var in li if var%2 !=0]\n",
    "print(lc)\n",
    "# iii. Use lambda function with filter\n",
    "lf = list(filter(lambda a : a%2 != 0, li ))\n",
    "print(lf)"
   ]
  },
  {
   "cell_type": "markdown",
   "metadata": {},
   "source": [
    "Q10: Write a UDF to return the descriptives [sum, count, min, mean, max] for a list of n number of input \n",
    "    numbers."
   ]
  },
  {
   "cell_type": "code",
   "execution_count": 63,
   "metadata": {},
   "outputs": [
    {
     "name": "stdout",
     "output_type": "stream",
     "text": [
      "Enter numbers : 1,3245,67,234,145,67,24,67,234\n",
      "SUM =  4084\n",
      "COUNT =  9\n",
      "MAX =  3245\n",
      "MIN =  1\n",
      "MEAN =  453.77777777777777\n"
     ]
    }
   ],
   "source": [
    "l4 = list(eval(input(\"Enter numbers : \")))\n",
    "def my_func2(b):\n",
    "    sum = 0\n",
    "    counter = 0\n",
    "    for var in b:\n",
    "        sum += var\n",
    "        counter += 1\n",
    "    print(\"SUM = \",sum)\n",
    "    print(\"COUNT = \",counter)\n",
    "    print(\"MAX = \",max(b))\n",
    "    print(\"MIN = \",min(b))\n",
    "    print(\"MEAN = \", sum/counter)\n",
    "    \n",
    "        \n",
    "my_func2(l4)"
   ]
  },
  {
   "cell_type": "markdown",
   "metadata": {},
   "source": [
    "Q11: Write an udf to calculate the area of different shapes\n",
    "\n",
    "Take shape and dimensions as arguments to udf as follows : \n",
    "\n",
    "1. square which has side\n",
    "2. rectangle which has length and width\n",
    "3. circle which has radius\n",
    "\n",
    "The shape should be a positional argument and it's dimensions are taken as kwargs\n",
    "\n",
    "Perform proper validation for the user inputs and then calculate area.\n",
    "\n",
    "E.g. if shape is square, ensure kwargs has \"side\" and if so, then you may return the area, else display appropriate error message like \"Please enter 'side' for a square\""
   ]
  },
  {
   "cell_type": "code",
   "execution_count": 1,
   "metadata": {},
   "outputs": [
    {
     "name": "stdout",
     "output_type": "stream",
     "text": [
      "The area of circle is : 78.54.\n"
     ]
    }
   ],
   "source": [
    "import math\n",
    "def my_func3(shape,**kwargs):\n",
    " \n",
    "  if shape == \"rectangle\":\n",
    "    rect_area = kwargs[\"l\"] * kwargs[\"w\"]\n",
    "    print(f\"The area of rectangle is : {rect_area}.\")\n",
    "   \n",
    "  elif shape == \"square\":\n",
    "    sqt_area = kwargs[\"s\"]*kwargs[\"s\"]\n",
    "    print(f\"The area of square is : {sqt_area}.\")\n",
    " \n",
    "  elif shape == \"circle\":      \n",
    "    circ_area = math.pi * kwargs[\"r\"] * kwargs[\"r\"]\n",
    "    print(f\"The area of circle is : {round(circ_area,2)}.\")\n",
    "    \n",
    "my_func3(\"circle\",r=5)       "
   ]
  },
  {
   "cell_type": "markdown",
   "metadata": {},
   "source": [
    "Q12: Write a UDF to reconcile the values within two lists.\n",
    "    \n",
    "    l1 = ['January', 'February', 'March', 'May', 'June', 'September', 'December']\n",
    "    l2 = ['January', 'February', 'April', 'June', 'October', 'December']\n",
    "\n",
    "Hint:\n",
    "-----\n",
    "def func(l1, l2):\n",
    "    \n",
    "    your code here...\n",
    "    \n",
    "Output:\n",
    "{'Matched': ['January', 'February', 'June', 'December'],\n",
    "    \n",
    "    'Only in l1': ['March', 'May', 'September'],\n",
    "        'Only in l2': ['April', 'October']}"
   ]
  },
  {
   "cell_type": "code",
   "execution_count": 6,
   "metadata": {},
   "outputs": [
    {
     "name": "stdout",
     "output_type": "stream",
     "text": [
      "Matched :  ['January', 'February', 'June', 'December']\n",
      "Only in l1 :  ['May', 'March', 'September']\n",
      "Only in l2 :  ['April', 'October']\n"
     ]
    }
   ],
   "source": [
    "l1 = ['January', 'February', 'March', 'May', 'June', 'September', 'December']\n",
    "l2 = ['January', 'February', 'April', 'June', 'October', 'December']\n",
    "\n",
    "def my_func4(c,d):\n",
    "    set1 = set(c)\n",
    "    set2 = set(d)\n",
    "    print(\"Matched : \",list(set1.intersection(set2)))\n",
    "    print(\"Only in l1 : \",list(set1-set2))\n",
    "    print(\"Only in l2 : \",list(set2-set1))\n",
    "    \n",
    "my_func4(l1,l2)"
   ]
  },
  {
   "cell_type": "markdown",
   "metadata": {
    "collapsed": true
   },
   "source": [
    "Q13: write a UDF to check if a number is prime or not."
   ]
  },
  {
   "cell_type": "code",
   "execution_count": 3,
   "metadata": {},
   "outputs": [
    {
     "name": "stdout",
     "output_type": "stream",
     "text": [
      "2 is a Prime number\n"
     ]
    }
   ],
   "source": [
    "def my_func5(a):\n",
    "    if a > 1:\n",
    "        for i in range(2,int(a/2)+1):\n",
    "            if (a % i == 0):\n",
    "                print(a, \"is not a Prime Number\")\n",
    "                break\n",
    "        else:\n",
    "            print(a,\"is a Prime number\")\n",
    "    else:\n",
    "        print(a,\"is not a Prime number\")\n",
    "\n",
    "my_func5(2)"
   ]
  },
  {
   "cell_type": "markdown",
   "metadata": {
    "collapsed": true
   },
   "source": [
    "Q14. Write a program which can compute the factorial of a given numbers. \n",
    "   The results should be printed in a comma-separated sequence on a single line. \n",
    "   input() function can be used for getting user(console) input\n",
    "\n",
    "\n",
    "#Suppose the input is supplied to the program:  8  \n",
    "#Then, the output should be:  40320 \n",
    "\n",
    "#Hints: In case of input data being supplied to the question, it should be assumed to be a console input. \n"
   ]
  },
  {
   "cell_type": "code",
   "execution_count": 20,
   "metadata": {},
   "outputs": [
    {
     "name": "stdout",
     "output_type": "stream",
     "text": [
      "Enter a Number : 8\n",
      "1,2,3,4,5,6,7,8,\n",
      "Factorial :  40320\n"
     ]
    }
   ],
   "source": [
    "input2 = int(input(\"Enter a Number : \"))\n",
    "factorial = 1\n",
    "for i in range(1,input2+1):\n",
    "    factorial *= i\n",
    "    print(i,end=\",\")\n",
    "print(\"\\nFactorial : \",factorial)\n"
   ]
  },
  {
   "cell_type": "markdown",
   "metadata": {
    "collapsed": true
   },
   "source": [
    "Q15. With a given integral number n, write a program to generate a dictionary that contains (i, i*i) such that is an integral number between 1 and n (both included). and then the program should print the dictionary.\n",
    "\n",
    "#Suppose the following input is supplied to the program: 8\n",
    "#Then, the output should be: {1: 1, 2: 4, 3: 9, 4: 16, 5: 25, 6: 36, 7: 49, 8: 64}\n",
    "#Hints: In case of input data being supplied to the question, it should be assumed to be a console input. Consider using dict()\n",
    "\n"
   ]
  },
  {
   "cell_type": "code",
   "execution_count": 33,
   "metadata": {},
   "outputs": [
    {
     "name": "stdout",
     "output_type": "stream",
     "text": [
      "Enter a Number : 8\n",
      "{1: 1, 2: 4, 3: 9, 4: 16, 5: 25, 6: 36, 7: 49, 8: 64}\n"
     ]
    }
   ],
   "source": [
    "input3 = int(input(\"Enter a Number : \"))\n",
    "dict1 = {}\n",
    "for i in range(1,input3+1):\n",
    "    dict1[i] = i*i\n",
    "print(dict1)\n"
   ]
  },
  {
   "cell_type": "markdown",
   "metadata": {
    "collapsed": true
   },
   "source": [
    "Q16. Write a program which accepts a sequence of comma-separated numbers from console and generate a list and a tuple which contains every number.\n",
    "Suppose the following input is supplied to the program: 34,67,55,33,12,98\n",
    "    \n",
    "    Then, the output should be: ['34', '67', '55', '33', '12', '98'] ('34', '67', '55', '33', '12', '98')\n",
    "\n",
    "Hints: In case of input data being supplied to the question, it should be assumed to be a console input. you may use tuple() method to convert list to tuple\n"
   ]
  },
  {
   "cell_type": "code",
   "execution_count": 35,
   "metadata": {},
   "outputs": [
    {
     "name": "stdout",
     "output_type": "stream",
     "text": [
      "Enter a sequence of comma-separated numbers : 34,67,55,33,12,98\n",
      "[34, 67, 55, 33, 12, 98] (34, 67, 55, 33, 12, 98)\n"
     ]
    }
   ],
   "source": [
    "input4 = eval(input(\"Enter a sequence of comma-separated numbers : \"))\n",
    "print(list(input4),end = \" \")\n",
    "print(tuple(input4))"
   ]
  },
  {
   "cell_type": "markdown",
   "metadata": {
    "collapsed": true
   },
   "source": [
    "Q17. Write a program that accepts a comma separated sequence of words as input and \n",
    " prints the words in a comma-separated sequence after sorting them alphabetically.\n",
    "\n",
    " Suppose the following input is supplied to the program: without,hello,bag,world\n",
    " Then, the output should be: bag,hello,without,world\n",
    "\n",
    "Hints: In case of input data being supplied to the question, it should be assumed to be a console input.\n"
   ]
  },
  {
   "cell_type": "code",
   "execution_count": 1,
   "metadata": {},
   "outputs": [
    {
     "name": "stdout",
     "output_type": "stream",
     "text": [
      "Enter a sequence of comma-separated words : \"without\",\"hello\",\"bag\",\"world\"\n",
      "bag,hello,without,world,"
     ]
    }
   ],
   "source": [
    "input5 = list(eval(input(\"Enter a sequence of comma-separated words : \")))\n",
    "input5.sort()\n",
    "for var in input5:\n",
    "    print(var,end =\",\")"
   ]
  },
  {
   "cell_type": "markdown",
   "metadata": {
    "collapsed": true
   },
   "source": [
    "Q18. Write a program that accepts a sequence of whitespace separated words \n",
    " as input and prints the words after removing all duplicate words and sorting them alphanumerically.\n",
    " Suppose the following input is supplied to the program: hello world and practice makes perfect and hello world again\n",
    " Then, the output should be: Write a program that accepts a sequence of whitespace separated words \n",
    "\n",
    "#Hints: In case of input data being supplied to the question, it should be assumed to be a console input.\n",
    "\n",
    "#We use set container to remove duplicated data automatically and then use sorted() to sort the data.\n"
   ]
  },
  {
   "cell_type": "code",
   "execution_count": 13,
   "metadata": {},
   "outputs": [
    {
     "name": "stdout",
     "output_type": "stream",
     "text": [
      "Enter a sequence of whitespace separated words : hello world and practice makes perfect and hello world again\n",
      "['again', 'and', 'hello', 'makes', 'perfect', 'practice', 'world']\n"
     ]
    }
   ],
   "source": [
    "input5 = input(\"Enter a sequence of whitespace separated words : \")\n",
    "input5 = input5.split()\n",
    "set1 = set(input5)\n",
    "print(sorted(set1))"
   ]
  },
  {
   "cell_type": "markdown",
   "metadata": {
    "collapsed": true
   },
   "source": [
    "Q19. Write a program that accepts a sentence and calculate the number of upper case \n",
    " letters and lower case letters.\n",
    "\n",
    "#Suppose the following input is supplied to the program: Hello world!\n",
    "\n",
    "#Then, the output should be: UPPER CASE 1 LOWER CASE 9\n",
    "\n",
    "#Hints: In case of input data being supplied to the question, it should be assumed to be a console input.\n"
   ]
  },
  {
   "cell_type": "code",
   "execution_count": 9,
   "metadata": {},
   "outputs": [
    {
     "name": "stdout",
     "output_type": "stream",
     "text": [
      "Enter a Sentence : Hello world!\n",
      "Count of upper case letters: 1\n",
      "Count of lower case letters: 9\n"
     ]
    }
   ],
   "source": [
    "input7 = input(\"Enter a Sentence : \")\n",
    "Count_uc = 0\n",
    "Count_lc = 0\n",
    "for i in range(len(input7)):\n",
    "    if input7[i].isupper() == True:\n",
    "        Count_uc += 1\n",
    "    elif input7[i].islower() == True:\n",
    "        Count_lc += 1\n",
    "print(\"Count of upper case letters:\",Count_uc)\n",
    "print(\"Count of lower case letters:\",Count_lc)"
   ]
  },
  {
   "cell_type": "markdown",
   "metadata": {
    "collapsed": true
   },
   "source": [
    "Q20. Write a program that takes a string and returns reversed string. i.e. if input is \"abcd123\" output should be \"321dcba\""
   ]
  },
  {
   "cell_type": "code",
   "execution_count": 4,
   "metadata": {},
   "outputs": [
    {
     "name": "stdout",
     "output_type": "stream",
     "text": [
      "Enter a String : \"abcd123\"\n",
      "\"321dcba\"\n"
     ]
    }
   ],
   "source": [
    "input8 = input(\"Enter a String : \")\n",
    "print(input8[::-1])"
   ]
  },
  {
   "cell_type": "code",
   "execution_count": null,
   "metadata": {},
   "outputs": [],
   "source": []
  }
 ],
 "metadata": {
  "kernelspec": {
   "display_name": "Python 3 (ipykernel)",
   "language": "python",
   "name": "python3"
  },
  "language_info": {
   "codemirror_mode": {
    "name": "ipython",
    "version": 3
   },
   "file_extension": ".py",
   "mimetype": "text/x-python",
   "name": "python",
   "nbconvert_exporter": "python",
   "pygments_lexer": "ipython3",
   "version": "3.9.12"
  },
  "varInspector": {
   "cols": {
    "lenName": 16,
    "lenType": 16,
    "lenVar": 40
   },
   "kernels_config": {
    "python": {
     "delete_cmd_postfix": "",
     "delete_cmd_prefix": "del ",
     "library": "var_list.py",
     "varRefreshCmd": "print(var_dic_list())"
    },
    "r": {
     "delete_cmd_postfix": ") ",
     "delete_cmd_prefix": "rm(",
     "library": "var_list.r",
     "varRefreshCmd": "cat(var_dic_list()) "
    }
   },
   "types_to_exclude": [
    "module",
    "function",
    "builtin_function_or_method",
    "instance",
    "_Feature"
   ],
   "window_display": false
  }
 },
 "nbformat": 4,
 "nbformat_minor": 2
}
